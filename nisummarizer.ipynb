{
 "cells": [
  {
   "cell_type": "code",
   "execution_count": 2,
   "id": "6c3f4ab4",
   "metadata": {},
   "outputs": [
    {
     "name": "stdout",
     "output_type": "stream",
     "text": [
      "Collecting spacy\n",
      "  Downloading spacy-3.5.2-cp311-cp311-win_amd64.whl (12.2 MB)\n",
      "     ---------------------------------------- 0.0/12.2 MB ? eta -:--:--\n",
      "     ---------------------------------------- 0.1/12.2 MB 1.7 MB/s eta 0:00:07\n",
      "     - -------------------------------------- 0.3/12.2 MB 3.5 MB/s eta 0:00:04\n",
      "     - -------------------------------------- 0.6/12.2 MB 4.5 MB/s eta 0:00:03\n",
      "     -- ------------------------------------- 0.7/12.2 MB 3.9 MB/s eta 0:00:03\n",
      "     --- ------------------------------------ 1.1/12.2 MB 4.6 MB/s eta 0:00:03\n",
      "     ---- ----------------------------------- 1.4/12.2 MB 4.8 MB/s eta 0:00:03\n",
      "     ----- ---------------------------------- 1.7/12.2 MB 5.3 MB/s eta 0:00:02\n",
      "     ------ --------------------------------- 1.9/12.2 MB 5.2 MB/s eta 0:00:02\n",
      "     ------ --------------------------------- 1.9/12.2 MB 4.5 MB/s eta 0:00:03\n",
      "     ------ --------------------------------- 2.1/12.2 MB 4.4 MB/s eta 0:00:03\n",
      "     ------- -------------------------------- 2.2/12.2 MB 4.2 MB/s eta 0:00:03\n",
      "     ------- -------------------------------- 2.4/12.2 MB 4.3 MB/s eta 0:00:03\n",
      "     -------- ------------------------------- 2.7/12.2 MB 4.4 MB/s eta 0:00:03\n",
      "     --------- ------------------------------ 2.9/12.2 MB 4.4 MB/s eta 0:00:03\n",
      "     ---------- ----------------------------- 3.2/12.2 MB 4.7 MB/s eta 0:00:02\n",
      "     ----------- ---------------------------- 3.5/12.2 MB 4.7 MB/s eta 0:00:02\n",
      "     ----------- ---------------------------- 3.6/12.2 MB 4.5 MB/s eta 0:00:02\n",
      "     ------------ --------------------------- 3.7/12.2 MB 4.6 MB/s eta 0:00:02\n",
      "     ------------- -------------------------- 4.0/12.2 MB 4.5 MB/s eta 0:00:02\n",
      "     ------------- -------------------------- 4.2/12.2 MB 4.5 MB/s eta 0:00:02\n",
      "     ------------- -------------------------- 4.3/12.2 MB 4.5 MB/s eta 0:00:02\n",
      "     --------------- ------------------------ 4.6/12.2 MB 4.4 MB/s eta 0:00:02\n",
      "     ---------------- ----------------------- 5.0/12.2 MB 4.7 MB/s eta 0:00:02\n",
      "     ----------------- ---------------------- 5.3/12.2 MB 4.8 MB/s eta 0:00:02\n",
      "     ----------------- ---------------------- 5.4/12.2 MB 4.7 MB/s eta 0:00:02\n",
      "     ------------------- -------------------- 5.8/12.2 MB 4.8 MB/s eta 0:00:02\n",
      "     -------------------- ------------------- 6.1/12.2 MB 4.9 MB/s eta 0:00:02\n",
      "     --------------------- ------------------ 6.5/12.2 MB 5.0 MB/s eta 0:00:02\n",
      "     --------------------- ------------------ 6.5/12.2 MB 4.8 MB/s eta 0:00:02\n",
      "     ----------------------- ---------------- 7.0/12.2 MB 5.1 MB/s eta 0:00:02\n",
      "     ----------------------- ---------------- 7.1/12.2 MB 5.0 MB/s eta 0:00:02\n",
      "     ----------------------- ---------------- 7.2/12.2 MB 5.0 MB/s eta 0:00:01\n",
      "     ------------------------- -------------- 7.8/12.2 MB 5.1 MB/s eta 0:00:01\n",
      "     --------------------------- ------------ 8.3/12.2 MB 5.2 MB/s eta 0:00:01\n",
      "     --------------------------- ------------ 8.4/12.2 MB 5.2 MB/s eta 0:00:01\n",
      "     ---------------------------- ----------- 8.7/12.2 MB 5.2 MB/s eta 0:00:01\n",
      "     ----------------------------- ---------- 8.9/12.2 MB 5.2 MB/s eta 0:00:01\n",
      "     ----------------------------- ---------- 9.1/12.2 MB 5.1 MB/s eta 0:00:01\n",
      "     ------------------------------ --------- 9.3/12.2 MB 5.1 MB/s eta 0:00:01\n",
      "     ------------------------------- -------- 9.5/12.2 MB 5.1 MB/s eta 0:00:01\n",
      "     ------------------------------- -------- 9.6/12.2 MB 5.1 MB/s eta 0:00:01\n",
      "     -------------------------------- ------- 9.9/12.2 MB 5.1 MB/s eta 0:00:01\n",
      "     --------------------------------- ------ 10.1/12.2 MB 5.0 MB/s eta 0:00:01\n",
      "     ---------------------------------- ----- 10.4/12.2 MB 5.2 MB/s eta 0:00:01\n",
      "     ----------------------------------- ---- 10.7/12.2 MB 5.2 MB/s eta 0:00:01\n",
      "     ------------------------------------ --- 11.2/12.2 MB 5.3 MB/s eta 0:00:01\n",
      "     ------------------------------------- -- 11.4/12.2 MB 5.3 MB/s eta 0:00:01\n",
      "     -------------------------------------- - 11.6/12.2 MB 5.3 MB/s eta 0:00:01\n",
      "     ---------------------------------------  11.9/12.2 MB 5.2 MB/s eta 0:00:01\n",
      "     ---------------------------------------  12.2/12.2 MB 5.5 MB/s eta 0:00:01\n",
      "     ---------------------------------------- 12.2/12.2 MB 5.3 MB/s eta 0:00:00\n",
      "Collecting spacy-legacy<3.1.0,>=3.0.11\n",
      "  Downloading spacy_legacy-3.0.12-py2.py3-none-any.whl (29 kB)\n",
      "Collecting spacy-loggers<2.0.0,>=1.0.0\n",
      "  Downloading spacy_loggers-1.0.4-py3-none-any.whl (11 kB)\n",
      "Collecting murmurhash<1.1.0,>=0.28.0\n",
      "  Downloading murmurhash-1.0.9-cp311-cp311-win_amd64.whl (18 kB)\n",
      "Collecting cymem<2.1.0,>=2.0.2\n",
      "  Downloading cymem-2.0.7-cp311-cp311-win_amd64.whl (28 kB)\n",
      "Collecting preshed<3.1.0,>=3.0.2\n",
      "  Downloading preshed-3.0.8-cp311-cp311-win_amd64.whl (91 kB)\n",
      "     ---------------------------------------- 0.0/91.9 kB ? eta -:--:--\n",
      "     ---------------------------------------- 91.9/91.9 kB 5.4 MB/s eta 0:00:00\n",
      "Collecting thinc<8.2.0,>=8.1.8\n",
      "  Downloading thinc-8.1.9-cp311-cp311-win_amd64.whl (1.5 MB)\n",
      "     ---------------------------------------- 0.0/1.5 MB ? eta -:--:--\n",
      "     ---------- ----------------------------- 0.4/1.5 MB 12.2 MB/s eta 0:00:01\n",
      "     ----------------- ---------------------- 0.7/1.5 MB 8.2 MB/s eta 0:00:01\n",
      "     ---------------------- ----------------- 0.8/1.5 MB 6.5 MB/s eta 0:00:01\n",
      "     ---------------------------- ----------- 1.0/1.5 MB 6.0 MB/s eta 0:00:01\n",
      "     ----------------------------------- ---- 1.3/1.5 MB 5.8 MB/s eta 0:00:01\n",
      "     ---------------------------------------- 1.5/1.5 MB 5.8 MB/s eta 0:00:00\n",
      "Collecting wasabi<1.2.0,>=0.9.1\n",
      "  Downloading wasabi-1.1.1-py3-none-any.whl (27 kB)\n",
      "Collecting srsly<3.0.0,>=2.4.3\n",
      "  Downloading srsly-2.4.6-cp311-cp311-win_amd64.whl (478 kB)\n",
      "     ---------------------------------------- 0.0/478.8 kB ? eta -:--:--\n",
      "     --------------------- ---------------- 276.5/478.8 kB 8.6 MB/s eta 0:00:01\n",
      "     -------------------------------------  471.0/478.8 kB 5.9 MB/s eta 0:00:01\n",
      "     -------------------------------------- 478.8/478.8 kB 5.0 MB/s eta 0:00:00\n",
      "Collecting catalogue<2.1.0,>=2.0.6\n",
      "  Downloading catalogue-2.0.8-py3-none-any.whl (17 kB)\n",
      "Collecting typer<0.8.0,>=0.3.0\n",
      "  Downloading typer-0.7.0-py3-none-any.whl (38 kB)\n",
      "Collecting pathy>=0.10.0\n",
      "  Downloading pathy-0.10.1-py3-none-any.whl (48 kB)\n",
      "     ---------------------------------------- 0.0/48.9 kB ? eta -:--:--\n",
      "     ---------------------------------------- 48.9/48.9 kB 2.4 MB/s eta 0:00:00\n",
      "Collecting smart-open<7.0.0,>=5.2.1\n",
      "  Downloading smart_open-6.3.0-py3-none-any.whl (56 kB)\n",
      "     ---------------------------------------- 0.0/56.8 kB ? eta -:--:--\n",
      "     ---------------------------------------- 56.8/56.8 kB 2.9 MB/s eta 0:00:00\n",
      "Requirement already satisfied: tqdm<5.0.0,>=4.38.0 in c:\\users\\knnid\\appdata\\local\\programs\\python\\python311\\lib\\site-packages (from spacy) (4.65.0)\n",
      "Requirement already satisfied: numpy>=1.15.0 in c:\\users\\knnid\\appdata\\local\\programs\\python\\python311\\lib\\site-packages (from spacy) (1.23.5)\n",
      "Requirement already satisfied: requests<3.0.0,>=2.13.0 in c:\\users\\knnid\\appdata\\local\\programs\\python\\python311\\lib\\site-packages (from spacy) (2.28.2)\n",
      "Requirement already satisfied: pydantic!=1.8,!=1.8.1,<1.11.0,>=1.7.4 in c:\\users\\knnid\\appdata\\local\\programs\\python\\python311\\lib\\site-packages (from spacy) (1.10.7)\n",
      "Requirement already satisfied: jinja2 in c:\\users\\knnid\\appdata\\local\\programs\\python\\python311\\lib\\site-packages (from spacy) (3.1.2)\n",
      "Requirement already satisfied: setuptools in c:\\users\\knnid\\appdata\\local\\programs\\python\\python311\\lib\\site-packages (from spacy) (65.5.0)\n",
      "Requirement already satisfied: packaging>=20.0 in c:\\users\\knnid\\appdata\\local\\programs\\python\\python311\\lib\\site-packages (from spacy) (22.0)\n",
      "Collecting langcodes<4.0.0,>=3.2.0\n",
      "  Downloading langcodes-3.3.0-py3-none-any.whl (181 kB)\n",
      "     ---------------------------------------- 0.0/181.6 kB ? eta -:--:--\n",
      "     -------------------------------------- 181.6/181.6 kB 5.5 MB/s eta 0:00:00\n",
      "Requirement already satisfied: typing-extensions>=4.2.0 in c:\\users\\knnid\\appdata\\local\\programs\\python\\python311\\lib\\site-packages (from pydantic!=1.8,!=1.8.1,<1.11.0,>=1.7.4->spacy) (4.4.0)\n",
      "Requirement already satisfied: charset-normalizer<4,>=2 in c:\\users\\knnid\\appdata\\local\\programs\\python\\python311\\lib\\site-packages (from requests<3.0.0,>=2.13.0->spacy) (3.1.0)\n",
      "Requirement already satisfied: idna<4,>=2.5 in c:\\users\\knnid\\appdata\\local\\programs\\python\\python311\\lib\\site-packages (from requests<3.0.0,>=2.13.0->spacy) (3.4)\n",
      "Requirement already satisfied: urllib3<1.27,>=1.21.1 in c:\\users\\knnid\\appdata\\local\\programs\\python\\python311\\lib\\site-packages (from requests<3.0.0,>=2.13.0->spacy) (1.26.15)\n",
      "Requirement already satisfied: certifi>=2017.4.17 in c:\\users\\knnid\\appdata\\local\\programs\\python\\python311\\lib\\site-packages (from requests<3.0.0,>=2.13.0->spacy) (2022.12.7)\n",
      "Collecting blis<0.8.0,>=0.7.8\n",
      "  Downloading blis-0.7.9-cp311-cp311-win_amd64.whl (7.0 MB)\n",
      "     ---------------------------------------- 0.0/7.0 MB ? eta -:--:--\n",
      "     -- ------------------------------------- 0.4/7.0 MB 11.6 MB/s eta 0:00:01\n",
      "     --- ------------------------------------ 0.7/7.0 MB 7.2 MB/s eta 0:00:01\n",
      "     ----- ---------------------------------- 1.0/7.0 MB 7.1 MB/s eta 0:00:01\n",
      "     ------- -------------------------------- 1.4/7.0 MB 7.8 MB/s eta 0:00:01\n",
      "     --------- ------------------------------ 1.7/7.0 MB 7.7 MB/s eta 0:00:01\n",
      "     ----------- ---------------------------- 2.1/7.0 MB 7.4 MB/s eta 0:00:01\n",
      "     ------------ --------------------------- 2.3/7.0 MB 7.6 MB/s eta 0:00:01\n",
      "     -------------- ------------------------- 2.5/7.0 MB 7.0 MB/s eta 0:00:01\n",
      "     --------------- ------------------------ 2.7/7.0 MB 6.6 MB/s eta 0:00:01\n",
      "     ---------------- ----------------------- 2.9/7.0 MB 6.5 MB/s eta 0:00:01\n",
      "     ------------------ --------------------- 3.2/7.0 MB 6.3 MB/s eta 0:00:01\n",
      "     ------------------ --------------------- 3.3/7.0 MB 6.1 MB/s eta 0:00:01\n",
      "     -------------------- ------------------- 3.6/7.0 MB 5.9 MB/s eta 0:00:01\n",
      "     ---------------------- ----------------- 3.9/7.0 MB 6.1 MB/s eta 0:00:01\n",
      "     ------------------------ --------------- 4.3/7.0 MB 6.2 MB/s eta 0:00:01\n",
      "     -------------------------- ------------- 4.6/7.0 MB 6.2 MB/s eta 0:00:01\n",
      "     -------------------------- ------------- 4.7/7.0 MB 6.3 MB/s eta 0:00:01\n",
      "     --------------------------- ------------ 4.9/7.0 MB 5.9 MB/s eta 0:00:01\n",
      "     ---------------------------- ----------- 5.0/7.0 MB 5.8 MB/s eta 0:00:01\n",
      "     ----------------------------- ---------- 5.1/7.0 MB 5.5 MB/s eta 0:00:01\n",
      "     ------------------------------ --------- 5.4/7.0 MB 5.5 MB/s eta 0:00:01\n",
      "     -------------------------------- ------- 5.7/7.0 MB 5.6 MB/s eta 0:00:01\n",
      "     ---------------------------------- ----- 6.1/7.0 MB 5.7 MB/s eta 0:00:01\n",
      "     ------------------------------------ --- 6.4/7.0 MB 5.8 MB/s eta 0:00:01\n",
      "     -------------------------------------- - 6.7/7.0 MB 5.8 MB/s eta 0:00:01\n",
      "     ---------------------------------------  7.0/7.0 MB 5.8 MB/s eta 0:00:01\n",
      "     ---------------------------------------- 7.0/7.0 MB 5.6 MB/s eta 0:00:00\n",
      "Collecting confection<1.0.0,>=0.0.1\n",
      "  Downloading confection-0.0.4-py3-none-any.whl (32 kB)\n",
      "Requirement already satisfied: colorama in c:\\users\\knnid\\appdata\\local\\programs\\python\\python311\\lib\\site-packages (from tqdm<5.0.0,>=4.38.0->spacy) (0.4.6)\n",
      "Requirement already satisfied: click<9.0.0,>=7.1.1 in c:\\users\\knnid\\appdata\\local\\programs\\python\\python311\\lib\\site-packages (from typer<0.8.0,>=0.3.0->spacy) (8.1.3)\n",
      "Requirement already satisfied: MarkupSafe>=2.0 in c:\\users\\knnid\\appdata\\local\\programs\\python\\python311\\lib\\site-packages (from jinja2->spacy) (2.1.1)\n",
      "Installing collected packages: cymem, wasabi, spacy-loggers, spacy-legacy, smart-open, murmurhash, langcodes, catalogue, blis, typer, srsly, preshed, pathy, confection, thinc, spacy\n",
      "Successfully installed blis-0.7.9 catalogue-2.0.8 confection-0.0.4 cymem-2.0.7 langcodes-3.3.0 murmurhash-1.0.9 pathy-0.10.1 preshed-3.0.8 smart-open-6.3.0 spacy-3.5.2 spacy-legacy-3.0.12 spacy-loggers-1.0.4 srsly-2.4.6 thinc-8.1.9 typer-0.7.0 wasabi-1.1.1\n"
     ]
    },
    {
     "name": "stderr",
     "output_type": "stream",
     "text": [
      "\n",
      "[notice] A new release of pip is available: 23.0.1 -> 23.1.1\n",
      "[notice] To update, run: python.exe -m pip install --upgrade pip\n"
     ]
    },
    {
     "name": "stdout",
     "output_type": "stream",
     "text": [
      "Collecting en-core-web-sm==3.5.0\n",
      "  Downloading https://github.com/explosion/spacy-models/releases/download/en_core_web_sm-3.5.0/en_core_web_sm-3.5.0-py3-none-any.whl (12.8 MB)\n",
      "     ---------------------------------------- 0.0/12.8 MB ? eta -:--:--\n",
      "     --------------------------------------- 0.0/12.8 MB 660.6 kB/s eta 0:00:20\n",
      "     --------------------------------------- 0.1/12.8 MB 919.0 kB/s eta 0:00:14\n",
      "      --------------------------------------- 0.2/12.8 MB 1.5 MB/s eta 0:00:09\n",
      "      --------------------------------------- 0.3/12.8 MB 1.7 MB/s eta 0:00:08\n",
      "     - -------------------------------------- 0.6/12.8 MB 2.5 MB/s eta 0:00:05\n",
      "     - -------------------------------------- 0.6/12.8 MB 2.3 MB/s eta 0:00:06\n",
      "     -- ------------------------------------- 0.9/12.8 MB 2.8 MB/s eta 0:00:05\n",
      "     ---- ----------------------------------- 1.3/12.8 MB 3.7 MB/s eta 0:00:04\n",
      "     ---- ----------------------------------- 1.5/12.8 MB 3.7 MB/s eta 0:00:04\n",
      "     ------ --------------------------------- 1.9/12.8 MB 4.2 MB/s eta 0:00:03\n",
      "     ------ --------------------------------- 2.0/12.8 MB 4.0 MB/s eta 0:00:03\n",
      "     ------ --------------------------------- 2.1/12.8 MB 4.0 MB/s eta 0:00:03\n",
      "     ------- -------------------------------- 2.2/12.8 MB 3.9 MB/s eta 0:00:03\n",
      "     -------- ------------------------------- 2.7/12.8 MB 4.2 MB/s eta 0:00:03\n",
      "     --------- ------------------------------ 3.1/12.8 MB 4.5 MB/s eta 0:00:03\n",
      "     ---------- ----------------------------- 3.4/12.8 MB 4.6 MB/s eta 0:00:03\n",
      "     ----------- ---------------------------- 3.6/12.8 MB 4.6 MB/s eta 0:00:02\n",
      "     ------------ --------------------------- 3.9/12.8 MB 4.7 MB/s eta 0:00:02\n",
      "     ------------- -------------------------- 4.2/12.8 MB 4.9 MB/s eta 0:00:02\n",
      "     ------------- -------------------------- 4.3/12.8 MB 4.8 MB/s eta 0:00:02\n",
      "     -------------- ------------------------- 4.8/12.8 MB 4.9 MB/s eta 0:00:02\n",
      "     ---------------- ----------------------- 5.2/12.8 MB 5.1 MB/s eta 0:00:02\n",
      "     ----------------- ---------------------- 5.5/12.8 MB 5.2 MB/s eta 0:00:02\n",
      "     ------------------ --------------------- 5.9/12.8 MB 5.3 MB/s eta 0:00:02\n",
      "     ------------------- -------------------- 6.2/12.8 MB 5.4 MB/s eta 0:00:02\n",
      "     -------------------- ------------------- 6.6/12.8 MB 5.5 MB/s eta 0:00:02\n",
      "     --------------------- ------------------ 7.0/12.8 MB 5.6 MB/s eta 0:00:02\n",
      "     ---------------------- ----------------- 7.3/12.8 MB 5.6 MB/s eta 0:00:01\n",
      "     ----------------------- ---------------- 7.7/12.8 MB 5.7 MB/s eta 0:00:01\n",
      "     ------------------------ --------------- 7.9/12.8 MB 5.7 MB/s eta 0:00:01\n",
      "     ------------------------- -------------- 8.1/12.8 MB 5.6 MB/s eta 0:00:01\n",
      "     -------------------------- ------------- 8.3/12.8 MB 5.7 MB/s eta 0:00:01\n",
      "     --------------------------- ------------ 8.7/12.8 MB 5.7 MB/s eta 0:00:01\n",
      "     ---------------------------- ----------- 9.0/12.8 MB 5.8 MB/s eta 0:00:01\n",
      "     ----------------------------- ---------- 9.4/12.8 MB 5.8 MB/s eta 0:00:01\n",
      "     ------------------------------ --------- 9.6/12.8 MB 5.7 MB/s eta 0:00:01\n",
      "     ------------------------------- -------- 10.0/12.8 MB 5.8 MB/s eta 0:00:01\n",
      "     ------------------------------- -------- 10.2/12.8 MB 5.9 MB/s eta 0:00:01\n",
      "     --------------------------------- ------ 10.6/12.8 MB 6.4 MB/s eta 0:00:01\n",
      "     --------------------------------- ------ 10.8/12.8 MB 6.4 MB/s eta 0:00:01\n",
      "     ---------------------------------- ----- 11.0/12.8 MB 6.4 MB/s eta 0:00:01\n",
      "     ---------------------------------- ----- 11.2/12.8 MB 6.4 MB/s eta 0:00:01\n",
      "     ------------------------------------ --- 11.5/12.8 MB 6.3 MB/s eta 0:00:01\n",
      "     ------------------------------------ --- 11.8/12.8 MB 6.4 MB/s eta 0:00:01\n",
      "     ------------------------------------- -- 12.2/12.8 MB 6.3 MB/s eta 0:00:01\n",
      "     ---------------------------------------  12.6/12.8 MB 6.7 MB/s eta 0:00:01\n",
      "     ---------------------------------------  12.6/12.8 MB 6.7 MB/s eta 0:00:01\n",
      "     ---------------------------------------  12.8/12.8 MB 6.4 MB/s eta 0:00:01\n",
      "     ---------------------------------------- 12.8/12.8 MB 6.2 MB/s eta 0:00:00\n",
      "Requirement already satisfied: spacy<3.6.0,>=3.5.0 in c:\\users\\knnid\\appdata\\local\\programs\\python\\python311\\lib\\site-packages (from en-core-web-sm==3.5.0) (3.5.2)\n",
      "Requirement already satisfied: spacy-legacy<3.1.0,>=3.0.11 in c:\\users\\knnid\\appdata\\local\\programs\\python\\python311\\lib\\site-packages (from spacy<3.6.0,>=3.5.0->en-core-web-sm==3.5.0) (3.0.12)\n",
      "Requirement already satisfied: spacy-loggers<2.0.0,>=1.0.0 in c:\\users\\knnid\\appdata\\local\\programs\\python\\python311\\lib\\site-packages (from spacy<3.6.0,>=3.5.0->en-core-web-sm==3.5.0) (1.0.4)\n",
      "Requirement already satisfied: murmurhash<1.1.0,>=0.28.0 in c:\\users\\knnid\\appdata\\local\\programs\\python\\python311\\lib\\site-packages (from spacy<3.6.0,>=3.5.0->en-core-web-sm==3.5.0) (1.0.9)\n",
      "Requirement already satisfied: cymem<2.1.0,>=2.0.2 in c:\\users\\knnid\\appdata\\local\\programs\\python\\python311\\lib\\site-packages (from spacy<3.6.0,>=3.5.0->en-core-web-sm==3.5.0) (2.0.7)\n",
      "Requirement already satisfied: preshed<3.1.0,>=3.0.2 in c:\\users\\knnid\\appdata\\local\\programs\\python\\python311\\lib\\site-packages (from spacy<3.6.0,>=3.5.0->en-core-web-sm==3.5.0) (3.0.8)\n",
      "Requirement already satisfied: thinc<8.2.0,>=8.1.8 in c:\\users\\knnid\\appdata\\local\\programs\\python\\python311\\lib\\site-packages (from spacy<3.6.0,>=3.5.0->en-core-web-sm==3.5.0) (8.1.9)\n",
      "Requirement already satisfied: wasabi<1.2.0,>=0.9.1 in c:\\users\\knnid\\appdata\\local\\programs\\python\\python311\\lib\\site-packages (from spacy<3.6.0,>=3.5.0->en-core-web-sm==3.5.0) (1.1.1)\n",
      "Requirement already satisfied: srsly<3.0.0,>=2.4.3 in c:\\users\\knnid\\appdata\\local\\programs\\python\\python311\\lib\\site-packages (from spacy<3.6.0,>=3.5.0->en-core-web-sm==3.5.0) (2.4.6)\n",
      "Requirement already satisfied: catalogue<2.1.0,>=2.0.6 in c:\\users\\knnid\\appdata\\local\\programs\\python\\python311\\lib\\site-packages (from spacy<3.6.0,>=3.5.0->en-core-web-sm==3.5.0) (2.0.8)\n",
      "Requirement already satisfied: typer<0.8.0,>=0.3.0 in c:\\users\\knnid\\appdata\\local\\programs\\python\\python311\\lib\\site-packages (from spacy<3.6.0,>=3.5.0->en-core-web-sm==3.5.0) (0.7.0)\n",
      "Requirement already satisfied: pathy>=0.10.0 in c:\\users\\knnid\\appdata\\local\\programs\\python\\python311\\lib\\site-packages (from spacy<3.6.0,>=3.5.0->en-core-web-sm==3.5.0) (0.10.1)\n",
      "Requirement already satisfied: smart-open<7.0.0,>=5.2.1 in c:\\users\\knnid\\appdata\\local\\programs\\python\\python311\\lib\\site-packages (from spacy<3.6.0,>=3.5.0->en-core-web-sm==3.5.0) (6.3.0)\n",
      "Requirement already satisfied: tqdm<5.0.0,>=4.38.0 in c:\\users\\knnid\\appdata\\local\\programs\\python\\python311\\lib\\site-packages (from spacy<3.6.0,>=3.5.0->en-core-web-sm==3.5.0) (4.65.0)\n",
      "Requirement already satisfied: numpy>=1.15.0 in c:\\users\\knnid\\appdata\\local\\programs\\python\\python311\\lib\\site-packages (from spacy<3.6.0,>=3.5.0->en-core-web-sm==3.5.0) (1.23.5)\n",
      "Requirement already satisfied: requests<3.0.0,>=2.13.0 in c:\\users\\knnid\\appdata\\local\\programs\\python\\python311\\lib\\site-packages (from spacy<3.6.0,>=3.5.0->en-core-web-sm==3.5.0) (2.28.2)\n",
      "Requirement already satisfied: pydantic!=1.8,!=1.8.1,<1.11.0,>=1.7.4 in c:\\users\\knnid\\appdata\\local\\programs\\python\\python311\\lib\\site-packages (from spacy<3.6.0,>=3.5.0->en-core-web-sm==3.5.0) (1.10.7)\n",
      "Requirement already satisfied: jinja2 in c:\\users\\knnid\\appdata\\local\\programs\\python\\python311\\lib\\site-packages (from spacy<3.6.0,>=3.5.0->en-core-web-sm==3.5.0) (3.1.2)\n",
      "Requirement already satisfied: setuptools in c:\\users\\knnid\\appdata\\local\\programs\\python\\python311\\lib\\site-packages (from spacy<3.6.0,>=3.5.0->en-core-web-sm==3.5.0) (65.5.0)\n",
      "Requirement already satisfied: packaging>=20.0 in c:\\users\\knnid\\appdata\\local\\programs\\python\\python311\\lib\\site-packages (from spacy<3.6.0,>=3.5.0->en-core-web-sm==3.5.0) (22.0)\n",
      "Requirement already satisfied: langcodes<4.0.0,>=3.2.0 in c:\\users\\knnid\\appdata\\local\\programs\\python\\python311\\lib\\site-packages (from spacy<3.6.0,>=3.5.0->en-core-web-sm==3.5.0) (3.3.0)\n",
      "Requirement already satisfied: typing-extensions>=4.2.0 in c:\\users\\knnid\\appdata\\local\\programs\\python\\python311\\lib\\site-packages (from pydantic!=1.8,!=1.8.1,<1.11.0,>=1.7.4->spacy<3.6.0,>=3.5.0->en-core-web-sm==3.5.0) (4.4.0)\n",
      "Requirement already satisfied: charset-normalizer<4,>=2 in c:\\users\\knnid\\appdata\\local\\programs\\python\\python311\\lib\\site-packages (from requests<3.0.0,>=2.13.0->spacy<3.6.0,>=3.5.0->en-core-web-sm==3.5.0) (3.1.0)\n",
      "Requirement already satisfied: idna<4,>=2.5 in c:\\users\\knnid\\appdata\\local\\programs\\python\\python311\\lib\\site-packages (from requests<3.0.0,>=2.13.0->spacy<3.6.0,>=3.5.0->en-core-web-sm==3.5.0) (3.4)\n",
      "Requirement already satisfied: urllib3<1.27,>=1.21.1 in c:\\users\\knnid\\appdata\\local\\programs\\python\\python311\\lib\\site-packages (from requests<3.0.0,>=2.13.0->spacy<3.6.0,>=3.5.0->en-core-web-sm==3.5.0) (1.26.15)\n",
      "Requirement already satisfied: certifi>=2017.4.17 in c:\\users\\knnid\\appdata\\local\\programs\\python\\python311\\lib\\site-packages (from requests<3.0.0,>=2.13.0->spacy<3.6.0,>=3.5.0->en-core-web-sm==3.5.0) (2022.12.7)\n",
      "Requirement already satisfied: blis<0.8.0,>=0.7.8 in c:\\users\\knnid\\appdata\\local\\programs\\python\\python311\\lib\\site-packages (from thinc<8.2.0,>=8.1.8->spacy<3.6.0,>=3.5.0->en-core-web-sm==3.5.0) (0.7.9)\n",
      "Requirement already satisfied: confection<1.0.0,>=0.0.1 in c:\\users\\knnid\\appdata\\local\\programs\\python\\python311\\lib\\site-packages (from thinc<8.2.0,>=8.1.8->spacy<3.6.0,>=3.5.0->en-core-web-sm==3.5.0) (0.0.4)\n",
      "Requirement already satisfied: colorama in c:\\users\\knnid\\appdata\\local\\programs\\python\\python311\\lib\\site-packages (from tqdm<5.0.0,>=4.38.0->spacy<3.6.0,>=3.5.0->en-core-web-sm==3.5.0) (0.4.6)\n",
      "Requirement already satisfied: click<9.0.0,>=7.1.1 in c:\\users\\knnid\\appdata\\local\\programs\\python\\python311\\lib\\site-packages (from typer<0.8.0,>=0.3.0->spacy<3.6.0,>=3.5.0->en-core-web-sm==3.5.0) (8.1.3)\n",
      "Requirement already satisfied: MarkupSafe>=2.0 in c:\\users\\knnid\\appdata\\local\\programs\\python\\python311\\lib\\site-packages (from jinja2->spacy<3.6.0,>=3.5.0->en-core-web-sm==3.5.0) (2.1.1)\n",
      "Installing collected packages: en-core-web-sm\n",
      "Successfully installed en-core-web-sm-3.5.0\n",
      "\u001b[38;5;2m[+] Download and installation successful\u001b[0m\n",
      "You can now load the package via spacy.load('en_core_web_sm')\n"
     ]
    },
    {
     "name": "stderr",
     "output_type": "stream",
     "text": [
      "\n",
      "[notice] A new release of pip is available: 23.0.1 -> 23.1.1\n",
      "[notice] To update, run: python.exe -m pip install --upgrade pip\n"
     ]
    }
   ],
   "source": [
    "!pip install -U spacy\n",
    "!python -m spacy download en_core_web_sm\n"
   ]
  },
  {
   "cell_type": "code",
   "execution_count": 6,
   "id": "45bde9f9",
   "metadata": {},
   "outputs": [],
   "source": [
    "import spacy"
   ]
  },
  {
   "cell_type": "code",
   "execution_count": 9,
   "id": "931eec97",
   "metadata": {},
   "outputs": [],
   "source": [
    "import spacy\n",
    "import spacy.lang.en.stop_words as STOP_WORDS\n",
    "from string import punctuation \n"
   ]
  },
  {
   "cell_type": "code",
   "execution_count": 13,
   "id": "2c11ecf0",
   "metadata": {},
   "outputs": [],
   "source": [
    "from spacy.lang.en.stop_words import STOP_WORDS\n",
    "stopwords = list(STOP_WORDS)\n"
   ]
  },
  {
   "cell_type": "code",
   "execution_count": 15,
   "id": "b8a1d4a8",
   "metadata": {},
   "outputs": [],
   "source": [
    "\n",
    "import spacy\n",
    "\n",
    "nlp = spacy.load(\"en_core_web_sm\")\n",
    "\n",
    "# previous error i made : nlp = spacy.load('en_core_we_sm')"
   ]
  },
  {
   "cell_type": "code",
   "execution_count": 33,
   "id": "b1185e83",
   "metadata": {},
   "outputs": [],
   "source": [
    "text = \"\"\"\n",
    "Text summarization is the process of creating a short, accurate, and fluent summary of a longer text document.It is the process of distilling the most important information from a source text.Automatic text summarization is a common problem in machine learning and natural language processing (NLP).Automatic text summarization methods are greatly needed to address the ever-growing amount of text data available online to both better help discover relevant information and to consume relevant information faster.\n",
    "\"\"\""
   ]
  },
  {
   "cell_type": "code",
   "execution_count": 34,
   "id": "28702fad",
   "metadata": {},
   "outputs": [],
   "source": [
    "doc = nlp(text)"
   ]
  },
  {
   "cell_type": "code",
   "execution_count": 35,
   "id": "a0786be8",
   "metadata": {},
   "outputs": [],
   "source": [
    "#we have tokenized words in the doc "
   ]
  },
  {
   "cell_type": "code",
   "execution_count": 36,
   "id": "23f72b78",
   "metadata": {},
   "outputs": [
    {
     "name": "stdout",
     "output_type": "stream",
     "text": [
      "['\\n', 'Text', 'summarization', 'is', 'the', 'process', 'of', 'creating', 'a', 'short', ',', 'accurate', ',', 'and', 'fluent', 'summary', 'of', 'a', 'longer', 'text', 'document', '.', 'It', 'is', 'the', 'process', 'of', 'distilling', 'the', 'most', 'important', 'information', 'from', 'a', 'source', 'text', '.', 'Automatic', 'text', 'summarization', 'is', 'a', 'common', 'problem', 'in', 'machine', 'learning', 'and', 'natural', 'language', 'processing', '(', 'NLP).Automatic', 'text', 'summarization', 'methods', 'are', 'greatly', 'needed', 'to', 'address', 'the', 'ever', '-', 'growing', 'amount', 'of', 'text', 'data', 'available', 'online', 'to', 'both', 'better', 'help', 'discover', 'relevant', 'information', 'and', 'to', 'consume', 'relevant', 'information', 'faster', '.', '\\n']\n"
     ]
    }
   ],
   "source": [
    "tokens = [token.text for token in doc]\n",
    "print(tokens)"
   ]
  },
  {
   "cell_type": "code",
   "execution_count": 37,
   "id": "f69ff6b2",
   "metadata": {},
   "outputs": [],
   "source": [
    "#we  dont want stopwords and puncuations and we want new lines if there arent any"
   ]
  },
  {
   "cell_type": "code",
   "execution_count": 38,
   "id": "5ce29e3b",
   "metadata": {},
   "outputs": [
    {
     "data": {
      "text/plain": [
       "'!\"#$%&\\'()*+,-./:;<=>?@[\\\\]^_`{|}~'"
      ]
     },
     "execution_count": 38,
     "metadata": {},
     "output_type": "execute_result"
    }
   ],
   "source": [
    "punctuation "
   ]
  },
  {
   "cell_type": "code",
   "execution_count": 39,
   "id": "b988d30a",
   "metadata": {},
   "outputs": [],
   "source": [
    "punctuation = punctuation + '\\n'"
   ]
  },
  {
   "cell_type": "code",
   "execution_count": 40,
   "id": "f3ddfe7c",
   "metadata": {},
   "outputs": [],
   "source": [
    "#now we find the frequency of the abbove words in the paragraph"
   ]
  },
  {
   "cell_type": "code",
   "execution_count": 41,
   "id": "2414340c",
   "metadata": {},
   "outputs": [],
   "source": [
    "word_frequencies ={}\n",
    "for word in doc:\n",
    "    if word.text.lower() not in stopwords:\n",
    "        if word.text.lower() not in punctuation:\n",
    "            if word.text not in word_frequencies.keys():\n",
    "                word_frequencies[word.text] = 1\n",
    "            else:\n",
    "                word_frequencies[word.text] += 1  #increment for the occurances "
   ]
  },
  {
   "cell_type": "code",
   "execution_count": 42,
   "id": "5528ff13",
   "metadata": {},
   "outputs": [
    {
     "name": "stdout",
     "output_type": "stream",
     "text": [
      "{'Text': 1, 'summarization': 3, 'process': 2, 'creating': 1, 'short': 1, 'accurate': 1, 'fluent': 1, 'summary': 1, 'longer': 1, 'text': 5, 'document': 1, 'distilling': 1, 'important': 1, 'information': 3, 'source': 1, 'Automatic': 1, 'common': 1, 'problem': 1, 'machine': 1, 'learning': 1, 'natural': 1, 'language': 1, 'processing': 1, 'NLP).Automatic': 1, 'methods': 1, 'greatly': 1, 'needed': 1, 'address': 1, 'growing': 1, 'data': 1, 'available': 1, 'online': 1, 'better': 1, 'help': 1, 'discover': 1, 'relevant': 2, 'consume': 1, 'faster': 1}\n"
     ]
    }
   ],
   "source": [
    "print(word_frequencies)"
   ]
  },
  {
   "cell_type": "code",
   "execution_count": 43,
   "id": "889855db",
   "metadata": {},
   "outputs": [],
   "source": [
    "max_frequency =max(word_frequencies.values())"
   ]
  },
  {
   "cell_type": "code",
   "execution_count": 44,
   "id": "77517b89",
   "metadata": {},
   "outputs": [
    {
     "data": {
      "text/plain": [
       "5"
      ]
     },
     "execution_count": 44,
     "metadata": {},
     "output_type": "execute_result"
    }
   ],
   "source": [
    "max_frequency "
   ]
  },
  {
   "cell_type": "code",
   "execution_count": 45,
   "id": "e1958216",
   "metadata": {},
   "outputs": [],
   "source": [
    "for word in word_frequencies.keys():\n",
    "    word_frequencies[word]= word_frequencies[word]/max_frequency "
   ]
  },
  {
   "cell_type": "code",
   "execution_count": 46,
   "id": "c2cb7d2a",
   "metadata": {},
   "outputs": [
    {
     "name": "stdout",
     "output_type": "stream",
     "text": [
      "{'Text': 0.2, 'summarization': 0.6, 'process': 0.4, 'creating': 0.2, 'short': 0.2, 'accurate': 0.2, 'fluent': 0.2, 'summary': 0.2, 'longer': 0.2, 'text': 1.0, 'document': 0.2, 'distilling': 0.2, 'important': 0.2, 'information': 0.6, 'source': 0.2, 'Automatic': 0.2, 'common': 0.2, 'problem': 0.2, 'machine': 0.2, 'learning': 0.2, 'natural': 0.2, 'language': 0.2, 'processing': 0.2, 'NLP).Automatic': 0.2, 'methods': 0.2, 'greatly': 0.2, 'needed': 0.2, 'address': 0.2, 'growing': 0.2, 'data': 0.2, 'available': 0.2, 'online': 0.2, 'better': 0.2, 'help': 0.2, 'discover': 0.2, 'relevant': 0.4, 'consume': 0.2, 'faster': 0.2}\n"
     ]
    }
   ],
   "source": [
    "print(word_frequencies)"
   ]
  },
  {
   "cell_type": "code",
   "execution_count": 47,
   "id": "cb9f35a4",
   "metadata": {},
   "outputs": [
    {
     "name": "stdout",
     "output_type": "stream",
     "text": [
      "[\n",
      "Text summarization is the process of creating a short, accurate, and fluent summary of a longer text document., It is the process of distilling the most important information from a source text., Automatic text summarization is a common problem in machine learning and natural language processing (NLP).Automatic text summarization methods are greatly needed to address the ever-growing amount of text data available online to both better help discover relevant information and to consume relevant information faster.\n",
      "]\n"
     ]
    }
   ],
   "source": [
    "sentence_tokens = [sent for sent in doc.sents]\n",
    "print(sentence_tokens)"
   ]
  },
  {
   "cell_type": "code",
   "execution_count": 48,
   "id": "2c9072b0",
   "metadata": {},
   "outputs": [],
   "source": [
    "#we calculate score of sentencs"
   ]
  },
  {
   "cell_type": "code",
   "execution_count": 51,
   "id": "bce2167f",
   "metadata": {},
   "outputs": [],
   "source": [
    "sentence_score = {}\n",
    "for sent in sentence_tokens:\n",
    "    for word in sent: \n",
    "        if word.text.lower() in word_frequencies.keys():\n",
    "            if sent not in sentence_score.keys():\n",
    "                sentence_score[sent]= word_frequencies[word.text.lower()]\n",
    "            else:\n",
    "                sentence_score[sent] += word_frequencies[word.text.lower()]"
   ]
  },
  {
   "cell_type": "code",
   "execution_count": 52,
   "id": "cb34d2e1",
   "metadata": {},
   "outputs": [
    {
     "data": {
      "text/plain": [
       "{\n",
       " Text summarization is the process of creating a short, accurate, and fluent summary of a longer text document.: 4.400000000000001,\n",
       " It is the process of distilling the most important information from a source text.: 2.5999999999999996,\n",
       " Automatic text summarization is a common problem in machine learning and natural language processing (NLP).Automatic text summarization methods are greatly needed to address the ever-growing amount of text data available online to both better help discover relevant information and to consume relevant information faster.: 10.200000000000001}"
      ]
     },
     "execution_count": 52,
     "metadata": {},
     "output_type": "execute_result"
    }
   ],
   "source": [
    "sentence_score"
   ]
  },
  {
   "cell_type": "code",
   "execution_count": 62,
   "id": "bc096e03",
   "metadata": {},
   "outputs": [
    {
     "data": {
      "text/plain": [
       "'now we text reduced to 30% with max sentence score\\nheapq is a Python module that provides functions forworking with heaps, which are data structures that allow  efficient retrieval of the smallest or largest element in a collection'"
      ]
     },
     "execution_count": 62,
     "metadata": {},
     "output_type": "execute_result"
    }
   ],
   "source": [
    "\"\"\"now we text reduced to 30% with max sentence score\n",
    "heapq is a Python module that provides functions forworking with heaps, which are data structures that allow  efficient retrieval of the smallest or largest element in a collection\"\"\""
   ]
  },
  {
   "cell_type": "code",
   "execution_count": 61,
   "id": "ca16ee33",
   "metadata": {},
   "outputs": [],
   "source": [
    "from heapq import nlargest"
   ]
  },
  {
   "cell_type": "code",
   "execution_count": 66,
   "id": "d98ec224",
   "metadata": {},
   "outputs": [
    {
     "data": {
      "text/plain": [
       "1"
      ]
     },
     "execution_count": 66,
     "metadata": {},
     "output_type": "execute_result"
    }
   ],
   "source": [
    "select_length = int(len(sentence_tokens)*0.5)\n",
    "select_length"
   ]
  },
  {
   "cell_type": "code",
   "execution_count": 68,
   "id": "be0afebb",
   "metadata": {},
   "outputs": [],
   "source": [
    "summary = nlargest(select_length, sentence_score,key = sentence_score.get)"
   ]
  },
  {
   "cell_type": "code",
   "execution_count": 69,
   "id": "0d81c97d",
   "metadata": {},
   "outputs": [
    {
     "data": {
      "text/plain": [
       "[Automatic text summarization is a common problem in machine learning and natural language processing (NLP).Automatic text summarization methods are greatly needed to address the ever-growing amount of text data available online to both better help discover relevant information and to consume relevant information faster.]"
      ]
     },
     "execution_count": 69,
     "metadata": {},
     "output_type": "execute_result"
    }
   ],
   "source": [
    "summary"
   ]
  },
  {
   "cell_type": "code",
   "execution_count": 70,
   "id": "8537bb1d",
   "metadata": {},
   "outputs": [],
   "source": [
    "#weve got summary ,"
   ]
  },
  {
   "cell_type": "code",
   "execution_count": 71,
   "id": "2817136a",
   "metadata": {},
   "outputs": [],
   "source": [
    "final_summary = [word.text for word in summary]"
   ]
  },
  {
   "cell_type": "code",
   "execution_count": 72,
   "id": "67e257f7",
   "metadata": {},
   "outputs": [
    {
     "name": "stdout",
     "output_type": "stream",
     "text": [
      "Automatic text summarization is a common problem in machine learning and natural language processing (NLP).Automatic text summarization methods are greatly needed to address the ever-growing amount of text data available online to both better help discover relevant information and to consume relevant information faster.\n",
      "\n"
     ]
    }
   ],
   "source": [
    "summary =''.join(final_summary)\n",
    "print(summary)"
   ]
  },
  {
   "cell_type": "code",
   "execution_count": 73,
   "id": "f4f92f83",
   "metadata": {},
   "outputs": [
    {
     "data": {
      "text/plain": [
       "515"
      ]
     },
     "execution_count": 73,
     "metadata": {},
     "output_type": "execute_result"
    }
   ],
   "source": [
    "len(text)"
   ]
  },
  {
   "cell_type": "code",
   "execution_count": 74,
   "id": "eb4b1554",
   "metadata": {},
   "outputs": [
    {
     "data": {
      "text/plain": [
       "322"
      ]
     },
     "execution_count": 74,
     "metadata": {},
     "output_type": "execute_result"
    }
   ],
   "source": [
    "len(summary)"
   ]
  },
  {
   "cell_type": "code",
   "execution_count": null,
   "id": "bc7e00a1",
   "metadata": {},
   "outputs": [],
   "source": []
  }
 ],
 "metadata": {
  "kernelspec": {
   "display_name": "Python 3 (ipykernel)",
   "language": "python",
   "name": "python3"
  },
  "language_info": {
   "codemirror_mode": {
    "name": "ipython",
    "version": 3
   },
   "file_extension": ".py",
   "mimetype": "text/x-python",
   "name": "python",
   "nbconvert_exporter": "python",
   "pygments_lexer": "ipython3",
   "version": "3.11.1"
  }
 },
 "nbformat": 4,
 "nbformat_minor": 5
}
